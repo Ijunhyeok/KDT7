{
 "cells": [
  {
   "cell_type": "code",
   "execution_count": 1,
   "metadata": {},
   "outputs": [],
   "source": [
    "import pandas as pd\n",
    "import matplotlib.pyplot as plt\n",
    "import koreanize_matplotlib\n",
    "import matplotlib.ticker as ticker\n",
    "import numpy as np"
   ]
  },
  {
   "cell_type": "code",
   "execution_count": 2,
   "metadata": {},
   "outputs": [],
   "source": [
    "강수량 = pd.read_csv('강수량(19902024).csv')\n",
    "사료원료비용 = pd.read_excel('식품제조업(10인 이상)(주요생산비)(2007~2022).xlsx')"
   ]
  },
  {
   "cell_type": "code",
   "execution_count": 3,
   "metadata": {},
   "outputs": [
    {
     "data": {
      "application/vnd.microsoft.datawrangler.viewer.v0+json": {
       "columns": [
        {
         "name": "index",
         "rawType": "int64",
         "type": "integer"
        },
        {
         "name": "년",
         "rawType": "int64",
         "type": "integer"
        },
        {
         "name": "강수량(mm)",
         "rawType": "float64",
         "type": "float"
        }
       ],
       "conversionMethod": "pd.DataFrame",
       "ref": "eb6e2696-2648-473d-bf5f-376cdfe2c068",
       "rows": [
        [
         "0",
         "1990",
         "1598.0"
        ],
        [
         "1",
         "1991",
         "1362.0"
        ],
        [
         "2",
         "1992",
         "1108.3"
        ],
        [
         "3",
         "1993",
         "1406.4"
        ],
        [
         "4",
         "1994",
         "918.6"
        ],
        [
         "5",
         "1995",
         "1074.9"
        ],
        [
         "6",
         "1996",
         "1088.1"
        ],
        [
         "7",
         "1997",
         "1384.3"
        ],
        [
         "8",
         "1998",
         "1776.0"
        ],
        [
         "9",
         "1999",
         "1679.1"
        ],
        [
         "10",
         "2000",
         "1313.7"
        ],
        [
         "11",
         "2001",
         "1030.8"
        ],
        [
         "12",
         "2002",
         "1530.0"
        ],
        [
         "13",
         "2003",
         "1882.8"
        ],
        [
         "14",
         "2004",
         "1457.6"
        ],
        [
         "15",
         "2005",
         "1309.8"
        ],
        [
         "16",
         "2006",
         "1437.1"
        ],
        [
         "17",
         "2007",
         "1461.1"
        ],
        [
         "18",
         "2008",
         "1002.0"
        ],
        [
         "19",
         "2009",
         "1244.7"
        ],
        [
         "20",
         "2010",
         "1464.6"
        ],
        [
         "21",
         "2011",
         "1658.0"
        ],
        [
         "22",
         "2012",
         "1488.7"
        ],
        [
         "23",
         "2013",
         "1187.0"
        ],
        [
         "24",
         "2014",
         "1189.0"
        ],
        [
         "25",
         "2015",
         "959.8"
        ],
        [
         "26",
         "2016",
         "1289.1"
        ],
        [
         "27",
         "2017",
         "982.4"
        ],
        [
         "28",
         "2018",
         "1437.0"
        ],
        [
         "29",
         "2019",
         "1184.4"
        ],
        [
         "30",
         "2020",
         "1629.9"
        ],
        [
         "31",
         "2021",
         "1243.3"
        ],
        [
         "32",
         "2022",
         "1140.5"
        ],
        [
         "33",
         "2023",
         "1740.3"
        ],
        [
         "34",
         "2024",
         "1417.6"
        ]
       ],
       "shape": {
        "columns": 2,
        "rows": 35
       }
      },
      "text/html": [
       "<div>\n",
       "<style scoped>\n",
       "    .dataframe tbody tr th:only-of-type {\n",
       "        vertical-align: middle;\n",
       "    }\n",
       "\n",
       "    .dataframe tbody tr th {\n",
       "        vertical-align: top;\n",
       "    }\n",
       "\n",
       "    .dataframe thead th {\n",
       "        text-align: right;\n",
       "    }\n",
       "</style>\n",
       "<table border=\"1\" class=\"dataframe\">\n",
       "  <thead>\n",
       "    <tr style=\"text-align: right;\">\n",
       "      <th></th>\n",
       "      <th>년</th>\n",
       "      <th>강수량(mm)</th>\n",
       "    </tr>\n",
       "  </thead>\n",
       "  <tbody>\n",
       "    <tr>\n",
       "      <th>0</th>\n",
       "      <td>1990</td>\n",
       "      <td>1598.0</td>\n",
       "    </tr>\n",
       "    <tr>\n",
       "      <th>1</th>\n",
       "      <td>1991</td>\n",
       "      <td>1362.0</td>\n",
       "    </tr>\n",
       "    <tr>\n",
       "      <th>2</th>\n",
       "      <td>1992</td>\n",
       "      <td>1108.3</td>\n",
       "    </tr>\n",
       "    <tr>\n",
       "      <th>3</th>\n",
       "      <td>1993</td>\n",
       "      <td>1406.4</td>\n",
       "    </tr>\n",
       "    <tr>\n",
       "      <th>4</th>\n",
       "      <td>1994</td>\n",
       "      <td>918.6</td>\n",
       "    </tr>\n",
       "    <tr>\n",
       "      <th>5</th>\n",
       "      <td>1995</td>\n",
       "      <td>1074.9</td>\n",
       "    </tr>\n",
       "    <tr>\n",
       "      <th>6</th>\n",
       "      <td>1996</td>\n",
       "      <td>1088.1</td>\n",
       "    </tr>\n",
       "    <tr>\n",
       "      <th>7</th>\n",
       "      <td>1997</td>\n",
       "      <td>1384.3</td>\n",
       "    </tr>\n",
       "    <tr>\n",
       "      <th>8</th>\n",
       "      <td>1998</td>\n",
       "      <td>1776.0</td>\n",
       "    </tr>\n",
       "    <tr>\n",
       "      <th>9</th>\n",
       "      <td>1999</td>\n",
       "      <td>1679.1</td>\n",
       "    </tr>\n",
       "    <tr>\n",
       "      <th>10</th>\n",
       "      <td>2000</td>\n",
       "      <td>1313.7</td>\n",
       "    </tr>\n",
       "    <tr>\n",
       "      <th>11</th>\n",
       "      <td>2001</td>\n",
       "      <td>1030.8</td>\n",
       "    </tr>\n",
       "    <tr>\n",
       "      <th>12</th>\n",
       "      <td>2002</td>\n",
       "      <td>1530.0</td>\n",
       "    </tr>\n",
       "    <tr>\n",
       "      <th>13</th>\n",
       "      <td>2003</td>\n",
       "      <td>1882.8</td>\n",
       "    </tr>\n",
       "    <tr>\n",
       "      <th>14</th>\n",
       "      <td>2004</td>\n",
       "      <td>1457.6</td>\n",
       "    </tr>\n",
       "    <tr>\n",
       "      <th>15</th>\n",
       "      <td>2005</td>\n",
       "      <td>1309.8</td>\n",
       "    </tr>\n",
       "    <tr>\n",
       "      <th>16</th>\n",
       "      <td>2006</td>\n",
       "      <td>1437.1</td>\n",
       "    </tr>\n",
       "    <tr>\n",
       "      <th>17</th>\n",
       "      <td>2007</td>\n",
       "      <td>1461.1</td>\n",
       "    </tr>\n",
       "    <tr>\n",
       "      <th>18</th>\n",
       "      <td>2008</td>\n",
       "      <td>1002.0</td>\n",
       "    </tr>\n",
       "    <tr>\n",
       "      <th>19</th>\n",
       "      <td>2009</td>\n",
       "      <td>1244.7</td>\n",
       "    </tr>\n",
       "    <tr>\n",
       "      <th>20</th>\n",
       "      <td>2010</td>\n",
       "      <td>1464.6</td>\n",
       "    </tr>\n",
       "    <tr>\n",
       "      <th>21</th>\n",
       "      <td>2011</td>\n",
       "      <td>1658.0</td>\n",
       "    </tr>\n",
       "    <tr>\n",
       "      <th>22</th>\n",
       "      <td>2012</td>\n",
       "      <td>1488.7</td>\n",
       "    </tr>\n",
       "    <tr>\n",
       "      <th>23</th>\n",
       "      <td>2013</td>\n",
       "      <td>1187.0</td>\n",
       "    </tr>\n",
       "    <tr>\n",
       "      <th>24</th>\n",
       "      <td>2014</td>\n",
       "      <td>1189.0</td>\n",
       "    </tr>\n",
       "    <tr>\n",
       "      <th>25</th>\n",
       "      <td>2015</td>\n",
       "      <td>959.8</td>\n",
       "    </tr>\n",
       "    <tr>\n",
       "      <th>26</th>\n",
       "      <td>2016</td>\n",
       "      <td>1289.1</td>\n",
       "    </tr>\n",
       "    <tr>\n",
       "      <th>27</th>\n",
       "      <td>2017</td>\n",
       "      <td>982.4</td>\n",
       "    </tr>\n",
       "    <tr>\n",
       "      <th>28</th>\n",
       "      <td>2018</td>\n",
       "      <td>1437.0</td>\n",
       "    </tr>\n",
       "    <tr>\n",
       "      <th>29</th>\n",
       "      <td>2019</td>\n",
       "      <td>1184.4</td>\n",
       "    </tr>\n",
       "    <tr>\n",
       "      <th>30</th>\n",
       "      <td>2020</td>\n",
       "      <td>1629.9</td>\n",
       "    </tr>\n",
       "    <tr>\n",
       "      <th>31</th>\n",
       "      <td>2021</td>\n",
       "      <td>1243.3</td>\n",
       "    </tr>\n",
       "    <tr>\n",
       "      <th>32</th>\n",
       "      <td>2022</td>\n",
       "      <td>1140.5</td>\n",
       "    </tr>\n",
       "    <tr>\n",
       "      <th>33</th>\n",
       "      <td>2023</td>\n",
       "      <td>1740.3</td>\n",
       "    </tr>\n",
       "    <tr>\n",
       "      <th>34</th>\n",
       "      <td>2024</td>\n",
       "      <td>1417.6</td>\n",
       "    </tr>\n",
       "  </tbody>\n",
       "</table>\n",
       "</div>"
      ],
      "text/plain": [
       "       년  강수량(mm)\n",
       "0   1990   1598.0\n",
       "1   1991   1362.0\n",
       "2   1992   1108.3\n",
       "3   1993   1406.4\n",
       "4   1994    918.6\n",
       "5   1995   1074.9\n",
       "6   1996   1088.1\n",
       "7   1997   1384.3\n",
       "8   1998   1776.0\n",
       "9   1999   1679.1\n",
       "10  2000   1313.7\n",
       "11  2001   1030.8\n",
       "12  2002   1530.0\n",
       "13  2003   1882.8\n",
       "14  2004   1457.6\n",
       "15  2005   1309.8\n",
       "16  2006   1437.1\n",
       "17  2007   1461.1\n",
       "18  2008   1002.0\n",
       "19  2009   1244.7\n",
       "20  2010   1464.6\n",
       "21  2011   1658.0\n",
       "22  2012   1488.7\n",
       "23  2013   1187.0\n",
       "24  2014   1189.0\n",
       "25  2015    959.8\n",
       "26  2016   1289.1\n",
       "27  2017    982.4\n",
       "28  2018   1437.0\n",
       "29  2019   1184.4\n",
       "30  2020   1629.9\n",
       "31  2021   1243.3\n",
       "32  2022   1140.5\n",
       "33  2023   1740.3\n",
       "34  2024   1417.6"
      ]
     },
     "execution_count": 3,
     "metadata": {},
     "output_type": "execute_result"
    }
   ],
   "source": [
    "강수량"
   ]
  },
  {
   "cell_type": "code",
   "execution_count": 4,
   "metadata": {},
   "outputs": [
    {
     "data": {
      "application/vnd.microsoft.datawrangler.viewer.v0+json": {
       "columns": [
        {
         "name": "index",
         "rawType": "int64",
         "type": "integer"
        },
        {
         "name": "식품제조업(10인 이상)(출하액,주요생산비,부가가치)(2007~2022)",
         "rawType": "object",
         "type": "unknown"
        },
        {
         "name": "Unnamed: 1",
         "rawType": "object",
         "type": "unknown"
        },
        {
         "name": "Unnamed: 2",
         "rawType": "object",
         "type": "unknown"
        },
        {
         "name": "Unnamed: 3",
         "rawType": "object",
         "type": "unknown"
        },
        {
         "name": "Unnamed: 4",
         "rawType": "object",
         "type": "unknown"
        },
        {
         "name": "Unnamed: 5",
         "rawType": "object",
         "type": "unknown"
        },
        {
         "name": "Unnamed: 6",
         "rawType": "object",
         "type": "unknown"
        },
        {
         "name": "Unnamed: 7",
         "rawType": "object",
         "type": "unknown"
        },
        {
         "name": "Unnamed: 8",
         "rawType": "object",
         "type": "unknown"
        },
        {
         "name": "Unnamed: 9",
         "rawType": "object",
         "type": "unknown"
        },
        {
         "name": "Unnamed: 10",
         "rawType": "object",
         "type": "unknown"
        },
        {
         "name": "Unnamed: 11",
         "rawType": "object",
         "type": "unknown"
        },
        {
         "name": "Unnamed: 12",
         "rawType": "object",
         "type": "unknown"
        },
        {
         "name": "Unnamed: 13",
         "rawType": "object",
         "type": "unknown"
        },
        {
         "name": "Unnamed: 14",
         "rawType": "object",
         "type": "unknown"
        },
        {
         "name": "Unnamed: 15",
         "rawType": "object",
         "type": "unknown"
        },
        {
         "name": "Unnamed: 16",
         "rawType": "object",
         "type": "unknown"
        }
       ],
       "conversionMethod": "pd.DataFrame",
       "ref": "057a17d7-d720-4aad-928b-b4e114311dbf",
       "rows": [
        [
         "0",
         "단위 : 백만원",
         null,
         null,
         null,
         null,
         null,
         null,
         null,
         null,
         null,
         null,
         null,
         null,
         null,
         null,
         null,
         null
        ],
        [
         "1",
         "산업별",
         "2007",
         "2008",
         "2009",
         "2010",
         "2011",
         "2012",
         "2013",
         "2014",
         "2015",
         "2016",
         "2017",
         "2018",
         "2019",
         "2020",
         "2021",
         "2022"
        ],
        [
         "2",
         null,
         "주요생산비",
         "주요생산비",
         "주요생산비",
         "주요생산비",
         "주요생산비",
         "주요생산비",
         "주요생산비",
         "주요생산비",
         "주요생산비",
         "주요생산비",
         "주요생산비",
         "주요생산비",
         "주요생산비",
         "주요생산비",
         "주요생산비",
         "주요생산비"
        ],
        [
         "3",
         "□ 동물용 사료 및 조제식품 제조업",
         "4227292",
         "5969008",
         "6458254",
         "0",
         "7137402",
         "8763148",
         "9041802",
         "8327012",
         "8086562",
         "7620264",
         "7335684",
         "7467729",
         "8074830",
         "8009505",
         "9795658",
         "13030862"
        ],
        [
         "4",
         "  - 배합 사료 제조업",
         "4146445",
         "5853858",
         "6355034",
         "0",
         "7020087",
         "8513082",
         "8643909",
         "7944998",
         "7712861",
         "7220835",
         "6975547",
         "7023351",
         "7567183",
         "7562258",
         "9228408",
         "12374245"
        ],
        [
         "5",
         "  - 단미사료 및 기타 사료 제조업",
         "80847",
         "115150",
         "103220",
         "0",
         "117315",
         "250066",
         "397893",
         "382014",
         "373701",
         "399429",
         "360137",
         "444378",
         "507647",
         "447247",
         "567250",
         "656617"
        ]
       ],
       "shape": {
        "columns": 17,
        "rows": 6
       }
      },
      "text/html": [
       "<div>\n",
       "<style scoped>\n",
       "    .dataframe tbody tr th:only-of-type {\n",
       "        vertical-align: middle;\n",
       "    }\n",
       "\n",
       "    .dataframe tbody tr th {\n",
       "        vertical-align: top;\n",
       "    }\n",
       "\n",
       "    .dataframe thead th {\n",
       "        text-align: right;\n",
       "    }\n",
       "</style>\n",
       "<table border=\"1\" class=\"dataframe\">\n",
       "  <thead>\n",
       "    <tr style=\"text-align: right;\">\n",
       "      <th></th>\n",
       "      <th>식품제조업(10인 이상)(출하액,주요생산비,부가가치)(2007~2022)</th>\n",
       "      <th>Unnamed: 1</th>\n",
       "      <th>Unnamed: 2</th>\n",
       "      <th>Unnamed: 3</th>\n",
       "      <th>Unnamed: 4</th>\n",
       "      <th>Unnamed: 5</th>\n",
       "      <th>Unnamed: 6</th>\n",
       "      <th>Unnamed: 7</th>\n",
       "      <th>Unnamed: 8</th>\n",
       "      <th>Unnamed: 9</th>\n",
       "      <th>Unnamed: 10</th>\n",
       "      <th>Unnamed: 11</th>\n",
       "      <th>Unnamed: 12</th>\n",
       "      <th>Unnamed: 13</th>\n",
       "      <th>Unnamed: 14</th>\n",
       "      <th>Unnamed: 15</th>\n",
       "      <th>Unnamed: 16</th>\n",
       "    </tr>\n",
       "  </thead>\n",
       "  <tbody>\n",
       "    <tr>\n",
       "      <th>0</th>\n",
       "      <td>단위 : 백만원</td>\n",
       "      <td>NaN</td>\n",
       "      <td>NaN</td>\n",
       "      <td>NaN</td>\n",
       "      <td>NaN</td>\n",
       "      <td>NaN</td>\n",
       "      <td>NaN</td>\n",
       "      <td>NaN</td>\n",
       "      <td>NaN</td>\n",
       "      <td>NaN</td>\n",
       "      <td>NaN</td>\n",
       "      <td>NaN</td>\n",
       "      <td>NaN</td>\n",
       "      <td>NaN</td>\n",
       "      <td>NaN</td>\n",
       "      <td>NaN</td>\n",
       "      <td>NaN</td>\n",
       "    </tr>\n",
       "    <tr>\n",
       "      <th>1</th>\n",
       "      <td>산업별</td>\n",
       "      <td>2007</td>\n",
       "      <td>2008</td>\n",
       "      <td>2009</td>\n",
       "      <td>2010</td>\n",
       "      <td>2011</td>\n",
       "      <td>2012</td>\n",
       "      <td>2013</td>\n",
       "      <td>2014</td>\n",
       "      <td>2015</td>\n",
       "      <td>2016</td>\n",
       "      <td>2017</td>\n",
       "      <td>2018</td>\n",
       "      <td>2019</td>\n",
       "      <td>2020</td>\n",
       "      <td>2021</td>\n",
       "      <td>2022</td>\n",
       "    </tr>\n",
       "    <tr>\n",
       "      <th>2</th>\n",
       "      <td>NaN</td>\n",
       "      <td>주요생산비</td>\n",
       "      <td>주요생산비</td>\n",
       "      <td>주요생산비</td>\n",
       "      <td>주요생산비</td>\n",
       "      <td>주요생산비</td>\n",
       "      <td>주요생산비</td>\n",
       "      <td>주요생산비</td>\n",
       "      <td>주요생산비</td>\n",
       "      <td>주요생산비</td>\n",
       "      <td>주요생산비</td>\n",
       "      <td>주요생산비</td>\n",
       "      <td>주요생산비</td>\n",
       "      <td>주요생산비</td>\n",
       "      <td>주요생산비</td>\n",
       "      <td>주요생산비</td>\n",
       "      <td>주요생산비</td>\n",
       "    </tr>\n",
       "    <tr>\n",
       "      <th>3</th>\n",
       "      <td>□ 동물용 사료 및 조제식품 제조업</td>\n",
       "      <td>4227292</td>\n",
       "      <td>5969008</td>\n",
       "      <td>6458254</td>\n",
       "      <td>0</td>\n",
       "      <td>7137402</td>\n",
       "      <td>8763148</td>\n",
       "      <td>9041802</td>\n",
       "      <td>8327012</td>\n",
       "      <td>8086562</td>\n",
       "      <td>7620264</td>\n",
       "      <td>7335684</td>\n",
       "      <td>7467729</td>\n",
       "      <td>8074830</td>\n",
       "      <td>8009505</td>\n",
       "      <td>9795658</td>\n",
       "      <td>13030862</td>\n",
       "    </tr>\n",
       "    <tr>\n",
       "      <th>4</th>\n",
       "      <td>- 배합 사료 제조업</td>\n",
       "      <td>4146445</td>\n",
       "      <td>5853858</td>\n",
       "      <td>6355034</td>\n",
       "      <td>0</td>\n",
       "      <td>7020087</td>\n",
       "      <td>8513082</td>\n",
       "      <td>8643909</td>\n",
       "      <td>7944998</td>\n",
       "      <td>7712861</td>\n",
       "      <td>7220835</td>\n",
       "      <td>6975547</td>\n",
       "      <td>7023351</td>\n",
       "      <td>7567183</td>\n",
       "      <td>7562258</td>\n",
       "      <td>9228408</td>\n",
       "      <td>12374245</td>\n",
       "    </tr>\n",
       "    <tr>\n",
       "      <th>5</th>\n",
       "      <td>- 단미사료 및 기타 사료 제조업</td>\n",
       "      <td>80847</td>\n",
       "      <td>115150</td>\n",
       "      <td>103220</td>\n",
       "      <td>0</td>\n",
       "      <td>117315</td>\n",
       "      <td>250066</td>\n",
       "      <td>397893</td>\n",
       "      <td>382014</td>\n",
       "      <td>373701</td>\n",
       "      <td>399429</td>\n",
       "      <td>360137</td>\n",
       "      <td>444378</td>\n",
       "      <td>507647</td>\n",
       "      <td>447247</td>\n",
       "      <td>567250</td>\n",
       "      <td>656617</td>\n",
       "    </tr>\n",
       "  </tbody>\n",
       "</table>\n",
       "</div>"
      ],
      "text/plain": [
       "  식품제조업(10인 이상)(출하액,주요생산비,부가가치)(2007~2022) Unnamed: 1 Unnamed: 2 Unnamed: 3  \\\n",
       "0                                 단위 : 백만원        NaN        NaN        NaN   \n",
       "1                                      산업별       2007       2008       2009   \n",
       "2                                      NaN      주요생산비      주요생산비      주요생산비   \n",
       "3                      □ 동물용 사료 및 조제식품 제조업    4227292    5969008    6458254   \n",
       "4                              - 배합 사료 제조업    4146445    5853858    6355034   \n",
       "5                       - 단미사료 및 기타 사료 제조업      80847     115150     103220   \n",
       "\n",
       "  Unnamed: 4 Unnamed: 5 Unnamed: 6 Unnamed: 7 Unnamed: 8 Unnamed: 9  \\\n",
       "0        NaN        NaN        NaN        NaN        NaN        NaN   \n",
       "1       2010       2011       2012       2013       2014       2015   \n",
       "2      주요생산비      주요생산비      주요생산비      주요생산비      주요생산비      주요생산비   \n",
       "3          0    7137402    8763148    9041802    8327012    8086562   \n",
       "4          0    7020087    8513082    8643909    7944998    7712861   \n",
       "5          0     117315     250066     397893     382014     373701   \n",
       "\n",
       "  Unnamed: 10 Unnamed: 11 Unnamed: 12 Unnamed: 13 Unnamed: 14 Unnamed: 15  \\\n",
       "0         NaN         NaN         NaN         NaN         NaN         NaN   \n",
       "1        2016        2017        2018        2019        2020        2021   \n",
       "2       주요생산비       주요생산비       주요생산비       주요생산비       주요생산비       주요생산비   \n",
       "3     7620264     7335684     7467729     8074830     8009505     9795658   \n",
       "4     7220835     6975547     7023351     7567183     7562258     9228408   \n",
       "5      399429      360137      444378      507647      447247      567250   \n",
       "\n",
       "  Unnamed: 16  \n",
       "0         NaN  \n",
       "1        2022  \n",
       "2       주요생산비  \n",
       "3    13030862  \n",
       "4    12374245  \n",
       "5      656617  "
      ]
     },
     "execution_count": 4,
     "metadata": {},
     "output_type": "execute_result"
    }
   ],
   "source": [
    "사료원료비용"
   ]
  },
  {
   "cell_type": "code",
   "execution_count": 5,
   "metadata": {},
   "outputs": [
    {
     "data": {
      "application/vnd.microsoft.datawrangler.viewer.v0+json": {
       "columns": [
        {
         "name": "index",
         "rawType": "int64",
         "type": "integer"
        },
        {
         "name": "년",
         "rawType": "int32",
         "type": "integer"
        },
        {
         "name": "동물용 사료 주요생산비",
         "rawType": "float64",
         "type": "float"
        }
       ],
       "conversionMethod": "pd.DataFrame",
       "ref": "df9b5f58-858c-408b-bc50-67682d1d0902",
       "rows": [
        [
         "0",
         "2007",
         "4227292.0"
        ],
        [
         "1",
         "2008",
         "5969008.0"
        ],
        [
         "2",
         "2009",
         "6458254.0"
        ],
        [
         "3",
         "2010",
         "6797828.0"
        ],
        [
         "4",
         "2011",
         "7137402.0"
        ],
        [
         "5",
         "2012",
         "8763148.0"
        ],
        [
         "6",
         "2013",
         "9041802.0"
        ],
        [
         "7",
         "2014",
         "8327012.0"
        ],
        [
         "8",
         "2015",
         "8086562.0"
        ],
        [
         "9",
         "2016",
         "7620264.0"
        ],
        [
         "10",
         "2017",
         "7335684.0"
        ],
        [
         "11",
         "2018",
         "7467729.0"
        ],
        [
         "12",
         "2019",
         "8074830.0"
        ],
        [
         "13",
         "2020",
         "8009505.0"
        ],
        [
         "14",
         "2021",
         "9795658.0"
        ],
        [
         "15",
         "2022",
         "13030862.0"
        ]
       ],
       "shape": {
        "columns": 2,
        "rows": 16
       }
      },
      "text/html": [
       "<div>\n",
       "<style scoped>\n",
       "    .dataframe tbody tr th:only-of-type {\n",
       "        vertical-align: middle;\n",
       "    }\n",
       "\n",
       "    .dataframe tbody tr th {\n",
       "        vertical-align: top;\n",
       "    }\n",
       "\n",
       "    .dataframe thead th {\n",
       "        text-align: right;\n",
       "    }\n",
       "</style>\n",
       "<table border=\"1\" class=\"dataframe\">\n",
       "  <thead>\n",
       "    <tr style=\"text-align: right;\">\n",
       "      <th></th>\n",
       "      <th>년</th>\n",
       "      <th>동물용 사료 주요생산비</th>\n",
       "    </tr>\n",
       "  </thead>\n",
       "  <tbody>\n",
       "    <tr>\n",
       "      <th>0</th>\n",
       "      <td>2007</td>\n",
       "      <td>4227292.0</td>\n",
       "    </tr>\n",
       "    <tr>\n",
       "      <th>1</th>\n",
       "      <td>2008</td>\n",
       "      <td>5969008.0</td>\n",
       "    </tr>\n",
       "    <tr>\n",
       "      <th>2</th>\n",
       "      <td>2009</td>\n",
       "      <td>6458254.0</td>\n",
       "    </tr>\n",
       "    <tr>\n",
       "      <th>3</th>\n",
       "      <td>2010</td>\n",
       "      <td>6797828.0</td>\n",
       "    </tr>\n",
       "    <tr>\n",
       "      <th>4</th>\n",
       "      <td>2011</td>\n",
       "      <td>7137402.0</td>\n",
       "    </tr>\n",
       "    <tr>\n",
       "      <th>5</th>\n",
       "      <td>2012</td>\n",
       "      <td>8763148.0</td>\n",
       "    </tr>\n",
       "    <tr>\n",
       "      <th>6</th>\n",
       "      <td>2013</td>\n",
       "      <td>9041802.0</td>\n",
       "    </tr>\n",
       "    <tr>\n",
       "      <th>7</th>\n",
       "      <td>2014</td>\n",
       "      <td>8327012.0</td>\n",
       "    </tr>\n",
       "    <tr>\n",
       "      <th>8</th>\n",
       "      <td>2015</td>\n",
       "      <td>8086562.0</td>\n",
       "    </tr>\n",
       "    <tr>\n",
       "      <th>9</th>\n",
       "      <td>2016</td>\n",
       "      <td>7620264.0</td>\n",
       "    </tr>\n",
       "    <tr>\n",
       "      <th>10</th>\n",
       "      <td>2017</td>\n",
       "      <td>7335684.0</td>\n",
       "    </tr>\n",
       "    <tr>\n",
       "      <th>11</th>\n",
       "      <td>2018</td>\n",
       "      <td>7467729.0</td>\n",
       "    </tr>\n",
       "    <tr>\n",
       "      <th>12</th>\n",
       "      <td>2019</td>\n",
       "      <td>8074830.0</td>\n",
       "    </tr>\n",
       "    <tr>\n",
       "      <th>13</th>\n",
       "      <td>2020</td>\n",
       "      <td>8009505.0</td>\n",
       "    </tr>\n",
       "    <tr>\n",
       "      <th>14</th>\n",
       "      <td>2021</td>\n",
       "      <td>9795658.0</td>\n",
       "    </tr>\n",
       "    <tr>\n",
       "      <th>15</th>\n",
       "      <td>2022</td>\n",
       "      <td>13030862.0</td>\n",
       "    </tr>\n",
       "  </tbody>\n",
       "</table>\n",
       "</div>"
      ],
      "text/plain": [
       "       년  동물용 사료 주요생산비\n",
       "0   2007     4227292.0\n",
       "1   2008     5969008.0\n",
       "2   2009     6458254.0\n",
       "3   2010     6797828.0\n",
       "4   2011     7137402.0\n",
       "5   2012     8763148.0\n",
       "6   2013     9041802.0\n",
       "7   2014     8327012.0\n",
       "8   2015     8086562.0\n",
       "9   2016     7620264.0\n",
       "10  2017     7335684.0\n",
       "11  2018     7467729.0\n",
       "12  2019     8074830.0\n",
       "13  2020     8009505.0\n",
       "14  2021     9795658.0\n",
       "15  2022    13030862.0"
      ]
     },
     "execution_count": 5,
     "metadata": {},
     "output_type": "execute_result"
    }
   ],
   "source": [
    "사료원료비용.drop(0, inplace=True)\n",
    "사료원료비용.columns = 사료원료비용.loc[1]\n",
    "사료원료비용.drop(range(1,3), inplace=True)\n",
    "사료원료비용.drop(range(4,6), inplace=True)\n",
    "사료원료비용=사료원료비용.T\n",
    "사료원료비용.insert(0, 'Index', 사료원료비용.index)\n",
    "사료원료비용.reset_index(drop=True, inplace=True)\n",
    "사료원료비용.columns = 사료원료비용.loc[0]\n",
    "사료원료비용.drop(0, inplace=True)\n",
    "사료원료비용.columns=['년', '동물용 사료 주요생산비']\n",
    "사료원료비용.reset_index(drop=True, inplace=True)\n",
    "사료원료비용 = 사료원료비용.astype({'년': int, '동물용 사료 주요생산비': int})\n",
    "사료원료비용.replace(0, np.nan, inplace=True)\n",
    "사료원료비용_interpolated = 사료원료비용.interpolate(method='linear')\n",
    "사료원료비용_interpolated"
   ]
  },
  {
   "cell_type": "code",
   "execution_count": 6,
   "metadata": {},
   "outputs": [
    {
     "data": {
      "application/vnd.microsoft.datawrangler.viewer.v0+json": {
       "columns": [
        {
         "name": "index",
         "rawType": "int64",
         "type": "integer"
        },
        {
         "name": "년",
         "rawType": "int32",
         "type": "integer"
        },
        {
         "name": "강수량(mm)",
         "rawType": "float64",
         "type": "float"
        },
        {
         "name": "동물용 사료 주요생산비",
         "rawType": "float64",
         "type": "float"
        }
       ],
       "conversionMethod": "pd.DataFrame",
       "ref": "bde56e3f-bc1d-431e-958b-b656e34720bf",
       "rows": [
        [
         "0",
         "2007",
         "1461.1",
         "4227292.0"
        ],
        [
         "1",
         "2008",
         "1002.0",
         "5969008.0"
        ],
        [
         "2",
         "2009",
         "1244.7",
         "6458254.0"
        ],
        [
         "3",
         "2010",
         "1464.6",
         "6797828.0"
        ],
        [
         "4",
         "2011",
         "1658.0",
         "7137402.0"
        ],
        [
         "5",
         "2012",
         "1488.7",
         "8763148.0"
        ],
        [
         "6",
         "2013",
         "1187.0",
         "9041802.0"
        ],
        [
         "7",
         "2014",
         "1189.0",
         "8327012.0"
        ],
        [
         "8",
         "2015",
         "959.8",
         "8086562.0"
        ],
        [
         "9",
         "2016",
         "1289.1",
         "7620264.0"
        ],
        [
         "10",
         "2017",
         "982.4",
         "7335684.0"
        ],
        [
         "11",
         "2018",
         "1437.0",
         "7467729.0"
        ],
        [
         "12",
         "2019",
         "1184.4",
         "8074830.0"
        ],
        [
         "13",
         "2020",
         "1629.9",
         "8009505.0"
        ],
        [
         "14",
         "2021",
         "1243.3",
         "9795658.0"
        ],
        [
         "15",
         "2022",
         "1140.5",
         "13030862.0"
        ]
       ],
       "shape": {
        "columns": 3,
        "rows": 16
       }
      },
      "text/html": [
       "<div>\n",
       "<style scoped>\n",
       "    .dataframe tbody tr th:only-of-type {\n",
       "        vertical-align: middle;\n",
       "    }\n",
       "\n",
       "    .dataframe tbody tr th {\n",
       "        vertical-align: top;\n",
       "    }\n",
       "\n",
       "    .dataframe thead th {\n",
       "        text-align: right;\n",
       "    }\n",
       "</style>\n",
       "<table border=\"1\" class=\"dataframe\">\n",
       "  <thead>\n",
       "    <tr style=\"text-align: right;\">\n",
       "      <th></th>\n",
       "      <th>년</th>\n",
       "      <th>강수량(mm)</th>\n",
       "      <th>동물용 사료 주요생산비</th>\n",
       "    </tr>\n",
       "  </thead>\n",
       "  <tbody>\n",
       "    <tr>\n",
       "      <th>0</th>\n",
       "      <td>2007</td>\n",
       "      <td>1461.1</td>\n",
       "      <td>4227292.0</td>\n",
       "    </tr>\n",
       "    <tr>\n",
       "      <th>1</th>\n",
       "      <td>2008</td>\n",
       "      <td>1002.0</td>\n",
       "      <td>5969008.0</td>\n",
       "    </tr>\n",
       "    <tr>\n",
       "      <th>2</th>\n",
       "      <td>2009</td>\n",
       "      <td>1244.7</td>\n",
       "      <td>6458254.0</td>\n",
       "    </tr>\n",
       "    <tr>\n",
       "      <th>3</th>\n",
       "      <td>2010</td>\n",
       "      <td>1464.6</td>\n",
       "      <td>6797828.0</td>\n",
       "    </tr>\n",
       "    <tr>\n",
       "      <th>4</th>\n",
       "      <td>2011</td>\n",
       "      <td>1658.0</td>\n",
       "      <td>7137402.0</td>\n",
       "    </tr>\n",
       "    <tr>\n",
       "      <th>5</th>\n",
       "      <td>2012</td>\n",
       "      <td>1488.7</td>\n",
       "      <td>8763148.0</td>\n",
       "    </tr>\n",
       "    <tr>\n",
       "      <th>6</th>\n",
       "      <td>2013</td>\n",
       "      <td>1187.0</td>\n",
       "      <td>9041802.0</td>\n",
       "    </tr>\n",
       "    <tr>\n",
       "      <th>7</th>\n",
       "      <td>2014</td>\n",
       "      <td>1189.0</td>\n",
       "      <td>8327012.0</td>\n",
       "    </tr>\n",
       "    <tr>\n",
       "      <th>8</th>\n",
       "      <td>2015</td>\n",
       "      <td>959.8</td>\n",
       "      <td>8086562.0</td>\n",
       "    </tr>\n",
       "    <tr>\n",
       "      <th>9</th>\n",
       "      <td>2016</td>\n",
       "      <td>1289.1</td>\n",
       "      <td>7620264.0</td>\n",
       "    </tr>\n",
       "    <tr>\n",
       "      <th>10</th>\n",
       "      <td>2017</td>\n",
       "      <td>982.4</td>\n",
       "      <td>7335684.0</td>\n",
       "    </tr>\n",
       "    <tr>\n",
       "      <th>11</th>\n",
       "      <td>2018</td>\n",
       "      <td>1437.0</td>\n",
       "      <td>7467729.0</td>\n",
       "    </tr>\n",
       "    <tr>\n",
       "      <th>12</th>\n",
       "      <td>2019</td>\n",
       "      <td>1184.4</td>\n",
       "      <td>8074830.0</td>\n",
       "    </tr>\n",
       "    <tr>\n",
       "      <th>13</th>\n",
       "      <td>2020</td>\n",
       "      <td>1629.9</td>\n",
       "      <td>8009505.0</td>\n",
       "    </tr>\n",
       "    <tr>\n",
       "      <th>14</th>\n",
       "      <td>2021</td>\n",
       "      <td>1243.3</td>\n",
       "      <td>9795658.0</td>\n",
       "    </tr>\n",
       "    <tr>\n",
       "      <th>15</th>\n",
       "      <td>2022</td>\n",
       "      <td>1140.5</td>\n",
       "      <td>13030862.0</td>\n",
       "    </tr>\n",
       "  </tbody>\n",
       "</table>\n",
       "</div>"
      ],
      "text/plain": [
       "       년  강수량(mm)  동물용 사료 주요생산비\n",
       "0   2007   1461.1     4227292.0\n",
       "1   2008   1002.0     5969008.0\n",
       "2   2009   1244.7     6458254.0\n",
       "3   2010   1464.6     6797828.0\n",
       "4   2011   1658.0     7137402.0\n",
       "5   2012   1488.7     8763148.0\n",
       "6   2013   1187.0     9041802.0\n",
       "7   2014   1189.0     8327012.0\n",
       "8   2015    959.8     8086562.0\n",
       "9   2016   1289.1     7620264.0\n",
       "10  2017    982.4     7335684.0\n",
       "11  2018   1437.0     7467729.0\n",
       "12  2019   1184.4     8074830.0\n",
       "13  2020   1629.9     8009505.0\n",
       "14  2021   1243.3     9795658.0\n",
       "15  2022   1140.5    13030862.0"
      ]
     },
     "execution_count": 6,
     "metadata": {},
     "output_type": "execute_result"
    }
   ],
   "source": [
    "강수량['년'] = 강수량['년'].astype(int)\n",
    "precipitation_raw_material = pd.merge(강수량, 사료원료비용_interpolated, on='년', how='inner')\n",
    "precipitation_raw_material"
   ]
  },
  {
   "cell_type": "code",
   "execution_count": 7,
   "metadata": {},
   "outputs": [
    {
     "data": {
      "image/png": "[encoded data removed]",
      "text/plain": [
       "<Figure size 1000x500 with 1 Axes>"
      ]
     },
     "metadata": {},
     "output_type": "display_data"
    }
   ],
   "source": [
    "plt.figure(figsize=(10,5))\n",
    "plt.plot(precipitation_raw_material['년'], precipitation_raw_material['강수량(mm)'])\n",
    "\n",
    "z = np.polyfit(precipitation_raw_material['년'], precipitation_raw_material['강수량(mm)'], 1)\n",
    "p = np.poly1d(z)\n",
    "plt.plot(precipitation_raw_material['년'], p(precipitation_raw_material['년']), 'b--')\n",
    "\n",
    "plt.title('연도별 강수량 변화(단위:mm)')\n",
    "plt.xlim(2007,2022)\n",
    "plt.gca().xaxis.set_major_locator(ticker.MultipleLocator(1))\n",
    "plt.gca().xaxis.set_major_locator(ticker.MaxNLocator(integer=True))\n",
    "plt.grid()\n",
    "plt.show()"
   ]
  },
  {
   "cell_type": "code",
   "execution_count": 8,
   "metadata": {},
   "outputs": [
    {
     "data": {
      "image/png": "[encoded data removed]",
      "text/plain": [
       "<Figure size 1000x500 with 1 Axes>"
      ]
     },
     "metadata": {},
     "output_type": "display_data"
    }
   ],
   "source": [
    "plt.figure(figsize=(10,5))\n",
    "plt.plot(precipitation_raw_material['년'], precipitation_raw_material['동물용 사료 주요생산비'])\n",
    "\n",
    "z = np.polyfit(precipitation_raw_material['년'], precipitation_raw_material['동물용 사료 주요생산비'], 1)\n",
    "p = np.poly1d(z)\n",
    "plt.plot(precipitation_raw_material['년'], p(precipitation_raw_material['년']), '--', color='green')\n",
    "\n",
    "plt.title('연도별 사료 생산비용 변화(단위:백만원)')\n",
    "plt.xlim(2007,2022)\n",
    "plt.gca().xaxis.set_major_locator(ticker.MultipleLocator(1))\n",
    "plt.gca().xaxis.set_major_locator(ticker.MaxNLocator(integer=True))\n",
    "plt.grid()\n",
    "plt.show()"
   ]
  },
  {
   "cell_type": "code",
   "execution_count": 9,
   "metadata": {},
   "outputs": [
    {
     "data": {
      "application/vnd.microsoft.datawrangler.viewer.v0+json": {
       "columns": [
        {
         "name": "index",
         "rawType": "object",
         "type": "string"
        },
        {
         "name": "년",
         "rawType": "float64",
         "type": "float"
        },
        {
         "name": "강수량(mm)",
         "rawType": "float64",
         "type": "float"
        },
        {
         "name": "동물용 사료 주요생산비",
         "rawType": "float64",
         "type": "float"
        }
       ],
       "conversionMethod": "pd.DataFrame",
       "ref": "5c2e207a-e269-45fe-a436-599caa836c29",
       "rows": [
        [
         "년",
         "1.0",
         "-0.12679165925818583",
         "0.7424913839082047"
        ],
        [
         "강수량(mm)",
         "-0.12679165925818583",
         "1.0",
         "-0.20253150502383363"
        ],
        [
         "동물용 사료 주요생산비",
         "0.7424913839082047",
         "-0.20253150502383363",
         "1.0"
        ]
       ],
       "shape": {
        "columns": 3,
        "rows": 3
       }
      },
      "text/html": [
       "<div>\n",
       "<style scoped>\n",
       "    .dataframe tbody tr th:only-of-type {\n",
       "        vertical-align: middle;\n",
       "    }\n",
       "\n",
       "    .dataframe tbody tr th {\n",
       "        vertical-align: top;\n",
       "    }\n",
       "\n",
       "    .dataframe thead th {\n",
       "        text-align: right;\n",
       "    }\n",
       "</style>\n",
       "<table border=\"1\" class=\"dataframe\">\n",
       "  <thead>\n",
       "    <tr style=\"text-align: right;\">\n",
       "      <th></th>\n",
       "      <th>년</th>\n",
       "      <th>강수량(mm)</th>\n",
       "      <th>동물용 사료 주요생산비</th>\n",
       "    </tr>\n",
       "  </thead>\n",
       "  <tbody>\n",
       "    <tr>\n",
       "      <th>년</th>\n",
       "      <td>1.000000</td>\n",
       "      <td>-0.126792</td>\n",
       "      <td>0.742491</td>\n",
       "    </tr>\n",
       "    <tr>\n",
       "      <th>강수량(mm)</th>\n",
       "      <td>-0.126792</td>\n",
       "      <td>1.000000</td>\n",
       "      <td>-0.202532</td>\n",
       "    </tr>\n",
       "    <tr>\n",
       "      <th>동물용 사료 주요생산비</th>\n",
       "      <td>0.742491</td>\n",
       "      <td>-0.202532</td>\n",
       "      <td>1.000000</td>\n",
       "    </tr>\n",
       "  </tbody>\n",
       "</table>\n",
       "</div>"
      ],
      "text/plain": [
       "                     년   강수량(mm)  동물용 사료 주요생산비\n",
       "년             1.000000 -0.126792      0.742491\n",
       "강수량(mm)      -0.126792  1.000000     -0.202532\n",
       "동물용 사료 주요생산비  0.742491 -0.202532      1.000000"
      ]
     },
     "execution_count": 9,
     "metadata": {},
     "output_type": "execute_result"
    }
   ],
   "source": [
    "precipitation_raw_material.corr()"
   ]
  }
 ],
 "metadata": {
  "kernelspec": {
   "display_name": "bigdata",
   "language": "python",
   "name": "python3"
  },
  "language_info": {
   "codemirror_mode": {
    "name": "ipython",
    "version": 3
   },
   "file_extension": ".py",
   "mimetype": "text/x-python",
   "name": "python",
   "nbconvert_exporter": "python",
   "pygments_lexer": "ipython3",
   "version": "3.12.8"
  }
 },
 "nbformat": 4,
 "nbformat_minor": 2
}
