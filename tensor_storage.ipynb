{
 "cells": [
  {
   "cell_type": "markdown",
   "metadata": {},
   "source": [
    "Storage\n",
    "- 텐서를 효율적으로 다룰 수 있도록 만들어주는 1차원 배열\n",
    "- 어떤 차원의 텐서이든 메모리 안에는 1차원 배열 형태로 저장\n",
    "- 구성 : offset + stride"
   ]
  },
  {
   "cell_type": "code",
   "execution_count": 27,
   "metadata": {},
   "outputs": [],
   "source": [
    "# 텐서 생성\n",
    "import torch\n",
    "\n",
    "t1 = torch.tensor([[11,22,33,44,55], [66,77,88,99,0]],dtype = torch.int8)"
   ]
  },
  {
   "cell_type": "code",
   "execution_count": 28,
   "metadata": {},
   "outputs": [],
   "source": [
    "def printStorage(obj, obj_name):\n",
    "    print(f\"\\n==== [{obj_name}] 기 본 정 보 ====\")\n",
    "    print(f'Shape : {obj.shape}')\n",
    "    print(f'Dim : {obj.ndim}D')\n",
    "    print(f'DType : {obj.dtype}')\n",
    "    print(f'itemsize: {obj.itemsize}')\n",
    "    print(\"==== STORAGE ====\")\n",
    "    print(\"Offset: \", obj.storage_offset())\n",
    "    print(\"Strides: \",obj.stride())\n",
    "    print(\"=====================\")\n",
    "    print(obj.untyped_storage())"
   ]
  },
  {
   "cell_type": "code",
   "execution_count": 29,
   "metadata": {},
   "outputs": [
    {
     "name": "stdout",
     "output_type": "stream",
     "text": [
      "\n",
      "==== [t1] 기 본 정 보 ====\n",
      "Shape : torch.Size([2, 5])\n",
      "Dim : 2D\n",
      "DType : torch.int8\n",
      "itemsize: 1\n",
      "==== STORAGE ====\n",
      "Offset:  0\n",
      "Strides:  (5, 1)\n",
      "=====================\n",
      " 11\n",
      " 22\n",
      " 33\n",
      " 44\n",
      " 55\n",
      " 66\n",
      " 77\n",
      " 88\n",
      " 99\n",
      " 0\n",
      "[torch.storage.UntypedStorage(device=cpu) of size 10]\n"
     ]
    }
   ],
   "source": [
    "# 텐서 기본정보 및 메모리 저장 정보\n",
    "printStorage(t1,'t1')"
   ]
  },
  {
   "cell_type": "code",
   "execution_count": 30,
   "metadata": {},
   "outputs": [
    {
     "name": "stdout",
     "output_type": "stream",
     "text": [
      "\n",
      "==== [t2] 기 본 정 보 ====\n",
      "Shape : torch.Size([5, 2])\n",
      "Dim : 2D\n",
      "DType : torch.int8\n",
      "itemsize: 1\n",
      "==== STORAGE ====\n",
      "Offset:  0\n",
      "Strides:  (1, 5)\n",
      "=====================\n",
      " 11\n",
      " 22\n",
      " 33\n",
      " 44\n",
      " 55\n",
      " 66\n",
      " 77\n",
      " 88\n",
      " 99\n",
      " 0\n",
      "[torch.storage.UntypedStorage(device=cpu) of size 10]\n"
     ]
    }
   ],
   "source": [
    "# 축(axis) 변경\n",
    "t2 = t1.transpose(0,1)\n",
    "\n",
    "printStorage(t2,'t2')"
   ]
  },
  {
   "cell_type": "code",
   "execution_count": 31,
   "metadata": {},
   "outputs": [
    {
     "name": "stdout",
     "output_type": "stream",
     "text": [
      "tensor([[11, 22, 33, 44, 55],\n",
      "        [66, 77, 88, 99,  0]], dtype=torch.int8)\n",
      "tensor([[11, 66],\n",
      "        [22, 77],\n",
      "        [33, 88],\n",
      "        [44, 99],\n",
      "        [55,  0]], dtype=torch.int8)\n"
     ]
    }
   ],
   "source": [
    "print(t1)\n",
    "print(t2)"
   ]
  },
  {
   "cell_type": "code",
   "execution_count": 34,
   "metadata": {},
   "outputs": [
    {
     "name": "stdout",
     "output_type": "stream",
     "text": [
      "False\n"
     ]
    }
   ],
   "source": [
    "# tensor 형태 변경\n",
    "# t2.view(-1,10) : 연속성이 깨져서 생긴 오류 \n",
    "print(t2.is_contiguous())  # 확인해보니 연속성 X"
   ]
  },
  {
   "cell_type": "code",
   "execution_count": null,
   "metadata": {},
   "outputs": [
    {
     "name": "stdout",
     "output_type": "stream",
     "text": [
      "True\n"
     ]
    }
   ],
   "source": [
    "t2 = t2.contiguous()       # 연속성 부여\n",
    "print(t2.is_contiguous())  # 확인해보니 연속성 O"
   ]
  },
  {
   "cell_type": "code",
   "execution_count": null,
   "metadata": {},
   "outputs": [],
   "source": []
  },
  {
   "cell_type": "code",
   "execution_count": null,
   "metadata": {},
   "outputs": [],
   "source": []
  },
  {
   "cell_type": "code",
   "execution_count": null,
   "metadata": {},
   "outputs": [],
   "source": []
  },
  {
   "cell_type": "code",
   "execution_count": null,
   "metadata": {},
   "outputs": [],
   "source": []
  }
 ],
 "metadata": {
  "kernelspec": {
   "display_name": "DL_TORCH",
   "language": "python",
   "name": "python3"
  },
  "language_info": {
   "codemirror_mode": {
    "name": "ipython",
    "version": 3
   },
   "file_extension": ".py",
   "mimetype": "text/x-python",
   "name": "python",
   "nbconvert_exporter": "python",
   "pygments_lexer": "ipython3",
   "version": "3.9.21"
  }
 },
 "nbformat": 4,
 "nbformat_minor": 2
}
