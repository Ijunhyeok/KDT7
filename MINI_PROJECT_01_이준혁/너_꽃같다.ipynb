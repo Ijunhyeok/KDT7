{
 "cells": [
  {
   "cell_type": "code",
   "execution_count": 1,
   "id": "bb52a472",
   "metadata": {},
   "outputs": [],
   "source": [
    "import random\n",
    "import pandas as pd"
   ]
  },
  {
   "cell_type": "code",
   "execution_count": 2,
   "id": "b6b1ea22",
   "metadata": {},
   "outputs": [],
   "source": [
    "# 엑셀 파일 읽기\n",
    "df = pd.read_excel('./꽃_이름,꽃말.xlsx', engine='openpyxl') # 엑셀 파일 경로를 지정하세요."
   ]
  },
  {
   "cell_type": "code",
   "execution_count": 3,
   "id": "dd5c0228",
   "metadata": {},
   "outputs": [
    {
     "name": "stdout",
     "output_type": "stream",
     "text": [
      "Index(['꽃 이름', '꽃말'], dtype='object')\n",
      "(68, 2)\n"
     ]
    }
   ],
   "source": [
    "print(df.columns)\n",
    "print(df.shape)"
   ]
  },
  {
   "cell_type": "code",
   "execution_count": 4,
   "id": "55a9cc2b",
   "metadata": {},
   "outputs": [],
   "source": [
    "# 딕셔너리로 변환\n",
    "flower_dict = {}\n",
    "for index, row in df.iterrows():\n",
    "    flower_name = row['꽃 이름'] # 엑셀의 열 이름에 맞게 수정\n",
    "    meanings = tuple(row['꽃말'].split(',')) # 쉼표로 구분된 꽃말을 튜플로 변환\n",
    "    flower_dict[flower_name] = meanings"
   ]
  },
  {
   "cell_type": "code",
   "execution_count": 5,
   "id": "08846c4b",
   "metadata": {},
   "outputs": [],
   "source": [
    "all_meanings = []\n",
    "for meanings in flower_dict.values():\n",
    "    all_meanings.extend(meanings)"
   ]
  },
  {
   "cell_type": "code",
   "execution_count": null,
   "id": "7e1ae7e2",
   "metadata": {},
   "outputs": [
    {
     "name": "stdout",
     "output_type": "stream",
     "text": [
      "\n",
      "('허무한 사랑', '사랑', '비밀스러운 사랑', '소망', '처녀의 꿈', '탐욕')\n",
      "\n",
      "'허무한 사랑'의 꽃말을 지닌 꽃은 여러개 있습니다.\n",
      "\n",
      "한번더 다음 꽃말 중 하나를 선택해주세요: ('괴로움', '시작')\n",
      "\n",
      "지금까지 선택한 꽃말은 ['허무한 사랑', '시작']입니다. 해당 꽃말들을 '나팔꽃'의 꽃말입니다.\n"
     ]
    }
   ],
   "source": [
    "# 랜덤하게 6개 선택하여 튜플로 저장\n",
    "random_flo_mean = tuple(random.sample(all_meanings, 6))\n",
    "\n",
    "while True:\n",
    "    print(f'\\n{random_flo_mean}')\n",
    "    want_flower = input(\"\\n다음 꽃말 중 어느 꽃말이 궁금하신가요? \").strip()\n",
    "    if want_flower in random_flo_mean: # 너가 찾는 꽃말이 랜덤꽃말에 있니?\n",
    "        matching_flowers = [] # 매칭한 값 저장할 빈 리스트\n",
    "        selected_history = []  # 선택한 기록 저장용 빈 리스트\n",
    "        \n",
    "        for flower, meanings in flower_dict.items(): # 꽃 딕셔너리에서 한줄씩 key, value를 가져와라\n",
    "            if want_flower in meanings: # 꽃말과 같은 입력값이 있다면\n",
    "                matching_flowers.append(flower) # 저장소에 추가하라\n",
    "        # 값을 입력하면 꽃 딕셔너리를 한줄씩 반복 검증하며 해당 값을 가진 key를 따로 저장함.\n",
    "        \n",
    "        selected_history.append((want_flower, matching_flowers)) # 앞서 검증된 값과 키를 저장\n",
    "        \n",
    "        if len(matching_flowers) > 1:\n",
    "            print(f\"\\n'{want_flower}'의 꽃말을 지닌 꽃은 여러개 있습니다.\")\n",
    "            new_choices = {} # 새롭게 담을 빈 주소\n",
    "            for flower in matching_flowers: # 매칭된 꽃에 기존 꽃이 있니?\n",
    "                other_meanings = set(flower_dict[flower]) - {want_flower} # 있으면 기존 꽃 딕셔너리의 꽃 이름과 해당하는 리스트에서 입력 받은 꽃말을 제외해서 따로 저장해라\n",
    "                new_choices[flower] = random.choice(list(other_meanings)) # 입력 받은 꽃말을 제외한 리스트를 다시 한번 랜덤으로 고른후 새롭게 담을 주소에 리스트로 저장\n",
    "            \n",
    "            available_meanings = tuple(new_choices.values()) # 꽃말 튜플로 저장 및 출력\n",
    "            print(f\"\\n한번더 다음 꽃말 중 하나를 선택해주세요: {available_meanings}\")\n",
    "            \n",
    "            while True:\n",
    "                new_choice = input().strip()\n",
    "                if new_choice in available_meanings:\n",
    "                    for flower, meaning in new_choices.items():\n",
    "                        if new_choice == meaning:\n",
    "                            # 선택한 꽃말과 꽃 저장\n",
    "                            selected_history.append((new_choice, flower))\n",
    "                            \n",
    "                            # 2번 이상 선택했을 경우 기록 출력\n",
    "                            if len(selected_history) >= 2:\n",
    "                                chosen_meanings = [meaning for meaning, other_mean in selected_history]\n",
    "                                final_flower = selected_history[-1][1]\n",
    "                                print(f\"\\n지금까지 선택한 꽃말은 {chosen_meanings}입니다. 해당 꽃말들을 '{final_flower}'의 꽃말입니다.\")\n",
    "                            break\n",
    "                    break\n",
    "                else:\n",
    "                    print(f\"제시된 꽃말 {available_meanings} 중에서 선택해주세요.\")\n",
    "        else: # 하나만 있는 값의 꽃말이면 바로 이렇게 출력해라\n",
    "            print(f\"\\n'{want_flower}'을/를 선택하셨네요. 해당 꽃말은 '{matching_flowers}'의 꽃말입니다.\")\n",
    "        break\n",
    "    else: # 입력한 꽃말이 기존 value의 값과 다를때 출력\n",
    "        print(\"\\n앞서 제시된 꽃말 중에서 입력해 주십시오.\")"
   ]
  },
  {
   "cell_type": "code",
   "execution_count": null,
   "id": "5428b081",
   "metadata": {},
   "outputs": [],
   "source": []
  }
 ],
 "metadata": {
  "kernelspec": {
   "display_name": "KDT7",
   "language": "python",
   "name": "python3"
  },
  "language_info": {
   "codemirror_mode": {
    "name": "ipython",
    "version": 3
   },
   "file_extension": ".py",
   "mimetype": "text/x-python",
   "name": "python",
   "nbconvert_exporter": "python",
   "pygments_lexer": "ipython3",
   "version": "3.11.11"
  }
 },
 "nbformat": 4,
 "nbformat_minor": 5
}
