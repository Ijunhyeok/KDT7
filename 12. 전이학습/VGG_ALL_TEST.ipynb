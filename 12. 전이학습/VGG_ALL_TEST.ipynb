{
 "cells": [
  {
   "cell_type": "code",
   "execution_count": 2,
   "id": "fdfcfe38",
   "metadata": {},
   "outputs": [],
   "source": [
    "from torch.utils.data import DataLoader\n",
    "from torchvision.datasets import ImageFolder\n",
    "from torchvision import transforms\n",
    "import numpy as np\n",
    "from matplotlib import pyplot as plt\n",
    "from torchvision import models\n",
    "from torch import nn\n",
    "import torch\n",
    "from torch import optim\n",
    "import torch.nn.functional as F\n",
    "from tqdm import tqdm\n",
    "from sklearn.metrics import accuracy_score, precision_score, f1_score\n",
    "import copy\n",
    "from torch.optim import lr_scheduler # 스케줄러 임포트"
   ]
  },
  {
   "cell_type": "code",
   "execution_count": 3,
   "id": "1f03d837",
   "metadata": {},
   "outputs": [],
   "source": [
    "# 기존 하이퍼파라미터 및 데이터 로딩 설정 (동일)\n",
    "HYPERPARAMS = {'batch_size' : 32, 'learning_rate' : 0.001, 'epochs' : 10, # 에포크를 좀 더 길게 설정 (조기 종료 있으므로)\n",
    "\t\t\t   'transform' : transforms.Compose([transforms.Resize(256), transforms.CenterCrop(224), transforms.ToTensor(),\n",
    "\t\t\t\t\t\t\t\t\t\t\t\t transforms.Normalize(mean=[0.48235, 0.45882, 0.40784], std=[0.229, 0.224, 0.225])])}"
   ]
  },
  {
   "cell_type": "code",
   "execution_count": 4,
   "id": "a5f3a815",
   "metadata": {},
   "outputs": [
    {
     "name": "stdout",
     "output_type": "stream",
     "text": [
      "데이터셋에서 클래스 이름 ['cheetah_train_resized', 'hyena_train_resized', 'tiger_train_resized'] (3개) 을(를) 성공적으로 불러왔습니다.\n"
     ]
    }
   ],
   "source": [
    "# 데이터셋 경로 확인 및 클래스 이름 가져오기\n",
    "# TODO: 데이터셋 경로 확인 필요\n",
    "try:\n",
    "    TRAIN_DATASET = ImageFolder('./data/train', transform = HYPERPARAMS['transform'])\n",
    "    VAILD_DATASET = ImageFolder('./data/vaildation', transform = HYPERPARAMS['transform']) # 'vaildation' -> 'validation' 오타 수정\n",
    "    class_names = TRAIN_DATASET.classes\n",
    "    num_classes = len(class_names)\n",
    "    print(f\"데이터셋에서 클래스 이름 {class_names} ({num_classes}개) 을(를) 성공적으로 불러왔습니다.\")\n",
    "except Exception as e:\n",
    "    print(f\"데이터셋 로딩 또는 클래스 이름 불러오는 데 실패했습니다. 오류: {e}\")\n",
    "    print(\"데이터셋 경로('./data/train', './data/validation')를 확인하거나, 수동으로 클래스 개수를 지정하세요.\")\n",
    "    # TODO: 실패 시 수동으로 클래스 개수 지정 필요\n",
    "    num_classes = 3 # 예시로 3개 클래스 가정\n",
    "    class_names = [f'class_{i}' for i in range(num_classes)]\n",
    "    print(f\"임시 클래스 개수 {num_classes}개와 임시 클래스 이름 {class_names} 을(를) 사용합니다.\")"
   ]
  },
  {
   "cell_type": "code",
   "execution_count": 5,
   "id": "58760a75",
   "metadata": {},
   "outputs": [],
   "source": [
    "TRAIN_DATALOADER = DataLoader(TRAIN_DATASET, batch_size=HYPERPARAMS['batch_size'], shuffle=True, drop_last=True)\n",
    "VAILD_DATALOADER = DataLoader(VAILD_DATASET, batch_size=HYPERPARAMS['batch_size'], shuffle=True, drop_last=True)\n",
    "\n",
    "DEVICE = 'cuda' if torch.cuda.is_available() else 'cpu' # 사용 가능한 경우 GPU, 아니면 CPU 사용\n",
    "\n",
    "# 손실 함수는 모델 종류와 무관하게 동일하게 사용\n",
    "criterion = nn.CrossEntropyLoss().to(DEVICE)"
   ]
  },
  {
   "cell_type": "code",
   "execution_count": 6,
   "id": "7db23394",
   "metadata": {},
   "outputs": [],
   "source": [
    "# --- 학습할 VGG 모델 목록 정의 ---\n",
    "models_to_train = {\n",
    "    'VGG11': models.vgg11, # 모델 생성 함수\n",
    "    'VGG13': models.vgg13,\n",
    "    'VGG16': models.vgg16,\n",
    "    'VGG19': models.vgg19,\n",
    "}\n",
    "# 각 모델에 맞는 사전 학습 가중치 Enum\n",
    "model_weights = {\n",
    "    'VGG11': models.VGG11_Weights.IMAGENET1K_V1,\n",
    "    'VGG13': models.VGG13_Weights.IMAGENET1K_V1,\n",
    "    'VGG16': models.VGG16_Weights.IMAGENET1K_V1,\n",
    "    'VGG19': models.VGG19_Weights.IMAGENET1K_V1,\n",
    "}"
   ]
  },
  {
   "cell_type": "code",
   "execution_count": 8,
   "id": "43822e2a",
   "metadata": {},
   "outputs": [
    {
     "name": "stdout",
     "output_type": "stream",
     "text": [
      "\n",
      "--- VGG11 모델 학습 시작 ---\n",
      "VGG11 모델의 최종 분류 레이어를 4096 -> 3 으로 수정했습니다.\n",
      "VGG11 모델 학습 시작 (최대 10 에포크, patience=3)\n"
     ]
    },
    {
     "name": "stderr",
     "output_type": "stream",
     "text": [
      "                                                                         \r"
     ]
    },
    {
     "name": "stdout",
     "output_type": "stream",
     "text": [
      "에포크 : 1, 학습 손실 : 1.149\n"
     ]
    },
    {
     "name": "stderr",
     "output_type": "stream",
     "text": [
      "                                                                       \r"
     ]
    },
    {
     "name": "stdout",
     "output_type": "stream",
     "text": [
      "에포크 : 1, 검증 손실 : 0.885\n",
      "에포크 : 1, 정확도 : 0.6597\n",
      "에포크 : 1, 정밀도 : 0.6849\n",
      "에포크 : 1, F1 점수 : 0.6553\n",
      "VGG11: 검증 손실 개선 (0.885). 모델 상태 저장 중.\n"
     ]
    },
    {
     "name": "stderr",
     "output_type": "stream",
     "text": [
      "                                                                         \r"
     ]
    },
    {
     "name": "stdout",
     "output_type": "stream",
     "text": [
      "에포크 : 2, 학습 손실 : 1.095\n"
     ]
    },
    {
     "name": "stderr",
     "output_type": "stream",
     "text": [
      "                                                                       \r"
     ]
    },
    {
     "name": "stdout",
     "output_type": "stream",
     "text": [
      "에포크 : 2, 검증 손실 : 1.111\n",
      "에포크 : 2, 정확도 : 0.3229\n",
      "에포크 : 2, 정밀도 : 0.1043\n",
      "에포크 : 2, F1 점수 : 0.1576\n",
      "VGG11: 검증 손실 개선 없음. Patience 카운터: 1/3\n"
     ]
    },
    {
     "name": "stderr",
     "output_type": "stream",
     "text": [
      "                                                                         \r"
     ]
    },
    {
     "name": "stdout",
     "output_type": "stream",
     "text": [
      "에포크 : 3, 학습 손실 : 1.107\n"
     ]
    },
    {
     "name": "stderr",
     "output_type": "stream",
     "text": [
      "                                                                       \r"
     ]
    },
    {
     "name": "stdout",
     "output_type": "stream",
     "text": [
      "에포크 : 3, 검증 손실 : 1.101\n",
      "에포크 : 3, 정확도 : 0.3368\n",
      "에포크 : 3, 정밀도 : 0.1134\n",
      "에포크 : 3, F1 점수 : 0.1697\n",
      "VGG11: 검증 손실 개선 없음. Patience 카운터: 2/3\n"
     ]
    },
    {
     "name": "stderr",
     "output_type": "stream",
     "text": [
      "                                                                         \r"
     ]
    },
    {
     "name": "stdout",
     "output_type": "stream",
     "text": [
      "에포크 : 4, 학습 손실 : 1.104\n"
     ]
    },
    {
     "name": "stderr",
     "output_type": "stream",
     "text": [
      "                                                                       \r"
     ]
    },
    {
     "name": "stdout",
     "output_type": "stream",
     "text": [
      "에포크 : 4, 검증 손실 : 1.101\n",
      "에포크 : 4, 정확도 : 0.3299\n",
      "에포크 : 4, 정밀도 : 0.1088\n",
      "에포크 : 4, F1 점수 : 0.1636\n",
      "VGG11: 검증 손실 개선 없음. Patience 카운터: 3/3\n",
      "VGG11: 조기 종료 발동. 총 4 에포크 실행.\n",
      "\n",
      "--- VGG11 모델 학습 완료 ---\n",
      "최고 검증 손실: 0.885 (에포크 1)\n",
      "최고 손실 시점의 정확도: 0.6597\n",
      "최고 성능 모델 가중치를 ./best_VGG11_model.pt 에 저장했습니다.\n",
      "\n",
      "--- VGG11 모델 학습 종료 ---\n",
      "\n",
      "\n",
      "--- VGG13 모델 학습 시작 ---\n"
     ]
    },
    {
     "name": "stderr",
     "output_type": "stream",
     "text": [
      "Downloading: \"https://download.pytorch.org/models/vgg13-19584684.pth\" to C:\\Users\\KDT34/.cache\\torch\\hub\\checkpoints\\vgg13-19584684.pth\n",
      "100%|██████████| 508M/508M [00:08<00:00, 60.8MB/s] \n"
     ]
    },
    {
     "name": "stdout",
     "output_type": "stream",
     "text": [
      "VGG13 모델의 최종 분류 레이어를 4096 -> 3 으로 수정했습니다.\n"
     ]
    },
    {
     "name": "stderr",
     "output_type": "stream",
     "text": [
      "c:\\Users\\KDT34\\anaconda3\\envs\\NLP\\lib\\site-packages\\torch\\optim\\lr_scheduler.py:62: UserWarning: The verbose parameter is deprecated. Please use get_last_lr() to access the learning rate.\n",
      "  warnings.warn(\n"
     ]
    },
    {
     "name": "stdout",
     "output_type": "stream",
     "text": [
      "VGG13 모델 학습 시작 (최대 10 에포크, patience=3)\n"
     ]
    },
    {
     "name": "stderr",
     "output_type": "stream",
     "text": [
      "                                                                         \r"
     ]
    },
    {
     "name": "stdout",
     "output_type": "stream",
     "text": [
      "에포크 : 1, 학습 손실 : 1.176\n"
     ]
    },
    {
     "name": "stderr",
     "output_type": "stream",
     "text": [
      "                                                                       \r"
     ]
    },
    {
     "name": "stdout",
     "output_type": "stream",
     "text": [
      "에포크 : 1, 검증 손실 : 0.623\n",
      "에포크 : 1, 정확도 : 0.7500\n",
      "에포크 : 1, 정밀도 : 0.7524\n",
      "에포크 : 1, F1 점수 : 0.7463\n",
      "VGG13: 검증 손실 개선 (0.623). 모델 상태 저장 중.\n"
     ]
    },
    {
     "name": "stderr",
     "output_type": "stream",
     "text": [
      "                                                                         \r"
     ]
    },
    {
     "name": "stdout",
     "output_type": "stream",
     "text": [
      "에포크 : 2, 학습 손실 : 1.017\n"
     ]
    },
    {
     "name": "stderr",
     "output_type": "stream",
     "text": [
      "                                                                       \r"
     ]
    },
    {
     "name": "stdout",
     "output_type": "stream",
     "text": [
      "에포크 : 2, 검증 손실 : 1.103\n",
      "에포크 : 2, 정확도 : 0.3368\n",
      "에포크 : 2, 정밀도 : 0.1134\n",
      "에포크 : 2, F1 점수 : 0.1697\n",
      "VGG13: 검증 손실 개선 없음. Patience 카운터: 1/3\n"
     ]
    },
    {
     "name": "stderr",
     "output_type": "stream",
     "text": [
      "                                                                         \r"
     ]
    },
    {
     "name": "stdout",
     "output_type": "stream",
     "text": [
      "에포크 : 3, 학습 손실 : 1.109\n"
     ]
    },
    {
     "name": "stderr",
     "output_type": "stream",
     "text": [
      "                                                                       \r"
     ]
    },
    {
     "name": "stdout",
     "output_type": "stream",
     "text": [
      "에포크 : 3, 검증 손실 : 1.101\n",
      "에포크 : 3, 정확도 : 0.3264\n",
      "에포크 : 3, 정밀도 : 0.1065\n",
      "에포크 : 3, F1 점수 : 0.1606\n",
      "VGG13: 검증 손실 개선 없음. Patience 카운터: 2/3\n"
     ]
    },
    {
     "name": "stderr",
     "output_type": "stream",
     "text": [
      "                                                                         \r"
     ]
    },
    {
     "name": "stdout",
     "output_type": "stream",
     "text": [
      "에포크 : 4, 학습 손실 : 1.107\n"
     ]
    },
    {
     "name": "stderr",
     "output_type": "stream",
     "text": [
      "                                                                       \r"
     ]
    },
    {
     "name": "stdout",
     "output_type": "stream",
     "text": [
      "에포크 : 4, 검증 손실 : 1.102\n",
      "에포크 : 4, 정확도 : 0.3264\n",
      "에포크 : 4, 정밀도 : 0.1065\n",
      "에포크 : 4, F1 점수 : 0.1606\n",
      "VGG13: 검증 손실 개선 없음. Patience 카운터: 3/3\n",
      "VGG13: 조기 종료 발동. 총 4 에포크 실행.\n",
      "\n",
      "--- VGG13 모델 학습 완료 ---\n",
      "최고 검증 손실: 0.623 (에포크 1)\n",
      "최고 손실 시점의 정확도: 0.7500\n",
      "최고 성능 모델 가중치를 ./best_VGG13_model.pt 에 저장했습니다.\n",
      "\n",
      "--- VGG13 모델 학습 종료 ---\n",
      "\n",
      "\n",
      "--- VGG16 모델 학습 시작 ---\n"
     ]
    },
    {
     "name": "stderr",
     "output_type": "stream",
     "text": [
      "Downloading: \"https://download.pytorch.org/models/vgg16-397923af.pth\" to C:\\Users\\KDT34/.cache\\torch\\hub\\checkpoints\\vgg16-397923af.pth\n",
      "100%|██████████| 528M/528M [00:08<00:00, 69.2MB/s] \n"
     ]
    },
    {
     "name": "stdout",
     "output_type": "stream",
     "text": [
      "VGG16 모델의 최종 분류 레이어를 4096 -> 3 으로 수정했습니다.\n"
     ]
    },
    {
     "name": "stderr",
     "output_type": "stream",
     "text": [
      "c:\\Users\\KDT34\\anaconda3\\envs\\NLP\\lib\\site-packages\\torch\\optim\\lr_scheduler.py:62: UserWarning: The verbose parameter is deprecated. Please use get_last_lr() to access the learning rate.\n",
      "  warnings.warn(\n"
     ]
    },
    {
     "name": "stdout",
     "output_type": "stream",
     "text": [
      "VGG16 모델 학습 시작 (최대 10 에포크, patience=3)\n"
     ]
    },
    {
     "name": "stderr",
     "output_type": "stream",
     "text": [
      "                                                                         \r"
     ]
    },
    {
     "name": "stdout",
     "output_type": "stream",
     "text": [
      "에포크 : 1, 학습 손실 : 1.098\n"
     ]
    },
    {
     "name": "stderr",
     "output_type": "stream",
     "text": [
      "                                                                       \r"
     ]
    },
    {
     "name": "stdout",
     "output_type": "stream",
     "text": [
      "에포크 : 1, 검증 손실 : 0.881\n",
      "에포크 : 1, 정확도 : 0.5903\n",
      "에포크 : 1, 정밀도 : 0.7166\n",
      "에포크 : 1, F1 점수 : 0.5477\n",
      "VGG16: 검증 손실 개선 (0.881). 모델 상태 저장 중.\n"
     ]
    },
    {
     "name": "stderr",
     "output_type": "stream",
     "text": [
      "                                                                         \r"
     ]
    },
    {
     "name": "stdout",
     "output_type": "stream",
     "text": [
      "에포크 : 2, 학습 손실 : 0.598\n"
     ]
    },
    {
     "name": "stderr",
     "output_type": "stream",
     "text": [
      "                                                                       \r"
     ]
    },
    {
     "name": "stdout",
     "output_type": "stream",
     "text": [
      "에포크 : 2, 검증 손실 : 0.361\n",
      "에포크 : 2, 정확도 : 0.8681\n",
      "에포크 : 2, 정밀도 : 0.8744\n",
      "에포크 : 2, F1 점수 : 0.8694\n",
      "VGG16: 검증 손실 개선 (0.361). 모델 상태 저장 중.\n"
     ]
    },
    {
     "name": "stderr",
     "output_type": "stream",
     "text": [
      "                                                                         \r"
     ]
    },
    {
     "name": "stdout",
     "output_type": "stream",
     "text": [
      "에포크 : 3, 학습 손실 : 0.479\n"
     ]
    },
    {
     "name": "stderr",
     "output_type": "stream",
     "text": [
      "                                                                       \r"
     ]
    },
    {
     "name": "stdout",
     "output_type": "stream",
     "text": [
      "에포크 : 3, 검증 손실 : 0.221\n",
      "에포크 : 3, 정확도 : 0.9306\n",
      "에포크 : 3, 정밀도 : 0.9317\n",
      "에포크 : 3, F1 점수 : 0.9308\n",
      "VGG16: 검증 손실 개선 (0.221). 모델 상태 저장 중.\n"
     ]
    },
    {
     "name": "stderr",
     "output_type": "stream",
     "text": [
      "                                                                         \r"
     ]
    },
    {
     "name": "stdout",
     "output_type": "stream",
     "text": [
      "에포크 : 4, 학습 손실 : 0.332\n"
     ]
    },
    {
     "name": "stderr",
     "output_type": "stream",
     "text": [
      "                                                                       \r"
     ]
    },
    {
     "name": "stdout",
     "output_type": "stream",
     "text": [
      "에포크 : 4, 검증 손실 : 0.373\n",
      "에포크 : 4, 정확도 : 0.8785\n",
      "에포크 : 4, 정밀도 : 0.8914\n",
      "에포크 : 4, F1 점수 : 0.8773\n",
      "VGG16: 검증 손실 개선 없음. Patience 카운터: 1/3\n"
     ]
    },
    {
     "name": "stderr",
     "output_type": "stream",
     "text": [
      "                                                                         \r"
     ]
    },
    {
     "name": "stdout",
     "output_type": "stream",
     "text": [
      "에포크 : 5, 학습 손실 : 0.313\n"
     ]
    },
    {
     "name": "stderr",
     "output_type": "stream",
     "text": [
      "                                                                       \r"
     ]
    },
    {
     "name": "stdout",
     "output_type": "stream",
     "text": [
      "에포크 : 5, 검증 손실 : 0.273\n",
      "에포크 : 5, 정확도 : 0.8889\n",
      "에포크 : 5, 정밀도 : 0.8926\n",
      "에포크 : 5, F1 점수 : 0.8891\n",
      "VGG16: 검증 손실 개선 없음. Patience 카운터: 2/3\n"
     ]
    },
    {
     "name": "stderr",
     "output_type": "stream",
     "text": [
      "                                                                         \r"
     ]
    },
    {
     "name": "stdout",
     "output_type": "stream",
     "text": [
      "에포크 : 6, 학습 손실 : 0.198\n"
     ]
    },
    {
     "name": "stderr",
     "output_type": "stream",
     "text": [
      "                                                                       \r"
     ]
    },
    {
     "name": "stdout",
     "output_type": "stream",
     "text": [
      "에포크 : 6, 검증 손실 : 0.125\n",
      "에포크 : 6, 정확도 : 0.9792\n",
      "에포크 : 6, 정밀도 : 0.9796\n",
      "에포크 : 6, F1 점수 : 0.9792\n",
      "VGG16: 검증 손실 개선 (0.125). 모델 상태 저장 중.\n"
     ]
    },
    {
     "name": "stderr",
     "output_type": "stream",
     "text": [
      "                                                                         \r"
     ]
    },
    {
     "name": "stdout",
     "output_type": "stream",
     "text": [
      "에포크 : 7, 학습 손실 : 0.183\n"
     ]
    },
    {
     "name": "stderr",
     "output_type": "stream",
     "text": [
      "                                                                       \r"
     ]
    },
    {
     "name": "stdout",
     "output_type": "stream",
     "text": [
      "에포크 : 7, 검증 손실 : 0.164\n",
      "에포크 : 7, 정확도 : 0.9549\n",
      "에포크 : 7, 정밀도 : 0.9577\n",
      "에포크 : 7, F1 점수 : 0.9549\n",
      "VGG16: 검증 손실 개선 없음. Patience 카운터: 1/3\n"
     ]
    },
    {
     "name": "stderr",
     "output_type": "stream",
     "text": [
      "                                                                         \r"
     ]
    },
    {
     "name": "stdout",
     "output_type": "stream",
     "text": [
      "에포크 : 8, 학습 손실 : 0.145\n"
     ]
    },
    {
     "name": "stderr",
     "output_type": "stream",
     "text": [
      "                                                                       \r"
     ]
    },
    {
     "name": "stdout",
     "output_type": "stream",
     "text": [
      "에포크 : 8, 검증 손실 : 0.215\n",
      "에포크 : 8, 정확도 : 0.9444\n",
      "에포크 : 8, 정밀도 : 0.9477\n",
      "에포크 : 8, F1 점수 : 0.9441\n",
      "VGG16: 검증 손실 개선 없음. Patience 카운터: 2/3\n"
     ]
    },
    {
     "name": "stderr",
     "output_type": "stream",
     "text": [
      "                                                                         \r"
     ]
    },
    {
     "name": "stdout",
     "output_type": "stream",
     "text": [
      "에포크 : 9, 학습 손실 : 0.241\n"
     ]
    },
    {
     "name": "stderr",
     "output_type": "stream",
     "text": [
      "                                                                       \r"
     ]
    },
    {
     "name": "stdout",
     "output_type": "stream",
     "text": [
      "에포크 : 9, 검증 손실 : 0.159\n",
      "에포크 : 9, 정확도 : 0.9514\n",
      "에포크 : 9, 정밀도 : 0.9515\n",
      "에포크 : 9, F1 점수 : 0.9513\n",
      "VGG16: 검증 손실 개선 없음. Patience 카운터: 3/3\n",
      "VGG16: 조기 종료 발동. 총 9 에포크 실행.\n",
      "\n",
      "--- VGG16 모델 학습 완료 ---\n",
      "최고 검증 손실: 0.125 (에포크 6)\n",
      "최고 손실 시점의 정확도: 0.9792\n",
      "최고 성능 모델 가중치를 ./best_VGG16_model.pt 에 저장했습니다.\n",
      "\n",
      "--- VGG16 모델 학습 종료 ---\n",
      "\n",
      "\n",
      "--- VGG19 모델 학습 시작 ---\n"
     ]
    },
    {
     "name": "stderr",
     "output_type": "stream",
     "text": [
      "Downloading: \"https://download.pytorch.org/models/vgg19-dcbb9e9d.pth\" to C:\\Users\\KDT34/.cache\\torch\\hub\\checkpoints\\vgg19-dcbb9e9d.pth\n",
      "100%|██████████| 548M/548M [00:10<00:00, 55.6MB/s] \n"
     ]
    },
    {
     "name": "stdout",
     "output_type": "stream",
     "text": [
      "VGG19 모델의 최종 분류 레이어를 4096 -> 3 으로 수정했습니다.\n"
     ]
    },
    {
     "name": "stderr",
     "output_type": "stream",
     "text": [
      "c:\\Users\\KDT34\\anaconda3\\envs\\NLP\\lib\\site-packages\\torch\\optim\\lr_scheduler.py:62: UserWarning: The verbose parameter is deprecated. Please use get_last_lr() to access the learning rate.\n",
      "  warnings.warn(\n"
     ]
    },
    {
     "name": "stdout",
     "output_type": "stream",
     "text": [
      "VGG19 모델 학습 시작 (최대 10 에포크, patience=3)\n"
     ]
    },
    {
     "name": "stderr",
     "output_type": "stream",
     "text": [
      "                                                                         \r"
     ]
    },
    {
     "name": "stdout",
     "output_type": "stream",
     "text": [
      "에포크 : 1, 학습 손실 : 1.206\n"
     ]
    },
    {
     "name": "stderr",
     "output_type": "stream",
     "text": [
      "                                                                       \r"
     ]
    },
    {
     "name": "stdout",
     "output_type": "stream",
     "text": [
      "에포크 : 1, 검증 손실 : 1.099\n",
      "에포크 : 1, 정확도 : 0.3333\n",
      "에포크 : 1, 정밀도 : 0.1111\n",
      "에포크 : 1, F1 점수 : 0.1667\n",
      "VGG19: 검증 손실 개선 (1.099). 모델 상태 저장 중.\n"
     ]
    },
    {
     "name": "stderr",
     "output_type": "stream",
     "text": [
      "                                                                         \r"
     ]
    },
    {
     "name": "stdout",
     "output_type": "stream",
     "text": [
      "에포크 : 2, 학습 손실 : 1.111\n"
     ]
    },
    {
     "name": "stderr",
     "output_type": "stream",
     "text": [
      "                                                                       \r"
     ]
    },
    {
     "name": "stdout",
     "output_type": "stream",
     "text": [
      "에포크 : 2, 검증 손실 : 1.102\n",
      "에포크 : 2, 정확도 : 0.3403\n",
      "에포크 : 2, 정밀도 : 0.1158\n",
      "에포크 : 2, F1 점수 : 0.1728\n",
      "VGG19: 검증 손실 개선 없음. Patience 카운터: 1/3\n"
     ]
    },
    {
     "name": "stderr",
     "output_type": "stream",
     "text": [
      "                                                                         \r"
     ]
    },
    {
     "name": "stdout",
     "output_type": "stream",
     "text": [
      "에포크 : 3, 학습 손실 : 1.104\n"
     ]
    },
    {
     "name": "stderr",
     "output_type": "stream",
     "text": [
      "                                                                       \r"
     ]
    },
    {
     "name": "stdout",
     "output_type": "stream",
     "text": [
      "에포크 : 3, 검증 손실 : 1.099\n",
      "에포크 : 3, 정확도 : 0.3299\n",
      "에포크 : 3, 정밀도 : 0.1088\n",
      "에포크 : 3, F1 점수 : 0.1636\n",
      "VGG19: 검증 손실 개선 (1.099). 모델 상태 저장 중.\n"
     ]
    },
    {
     "name": "stderr",
     "output_type": "stream",
     "text": [
      "                                                                         \r"
     ]
    },
    {
     "name": "stdout",
     "output_type": "stream",
     "text": [
      "에포크 : 4, 학습 손실 : 1.103\n"
     ]
    },
    {
     "name": "stderr",
     "output_type": "stream",
     "text": [
      "                                                                       \r"
     ]
    },
    {
     "name": "stdout",
     "output_type": "stream",
     "text": [
      "에포크 : 4, 검증 손실 : 1.104\n",
      "에포크 : 4, 정확도 : 0.3403\n",
      "에포크 : 4, 정밀도 : 0.1158\n",
      "에포크 : 4, F1 점수 : 0.1728\n",
      "VGG19: 검증 손실 개선 없음. Patience 카운터: 1/3\n"
     ]
    },
    {
     "name": "stderr",
     "output_type": "stream",
     "text": [
      "                                                                         \r"
     ]
    },
    {
     "name": "stdout",
     "output_type": "stream",
     "text": [
      "에포크 : 5, 학습 손실 : 1.103\n"
     ]
    },
    {
     "name": "stderr",
     "output_type": "stream",
     "text": [
      "                                                                       \r"
     ]
    },
    {
     "name": "stdout",
     "output_type": "stream",
     "text": [
      "에포크 : 5, 검증 손실 : 1.100\n",
      "에포크 : 5, 정확도 : 0.3403\n",
      "에포크 : 5, 정밀도 : 0.1158\n",
      "에포크 : 5, F1 점수 : 0.1728\n",
      "VGG19: 검증 손실 개선 없음. Patience 카운터: 2/3\n"
     ]
    },
    {
     "name": "stderr",
     "output_type": "stream",
     "text": [
      "                                                                         \r"
     ]
    },
    {
     "name": "stdout",
     "output_type": "stream",
     "text": [
      "에포크 : 6, 학습 손실 : 1.103\n"
     ]
    },
    {
     "name": "stderr",
     "output_type": "stream",
     "text": [
      "                                                                       \r"
     ]
    },
    {
     "name": "stdout",
     "output_type": "stream",
     "text": [
      "에포크 : 6, 검증 손실 : 1.100\n",
      "에포크 : 6, 정확도 : 0.3438\n",
      "에포크 : 6, 정밀도 : 0.1182\n",
      "에포크 : 6, F1 점수 : 0.1759\n",
      "VGG19: 검증 손실 개선 없음. Patience 카운터: 3/3\n",
      "VGG19: 조기 종료 발동. 총 6 에포크 실행.\n",
      "\n",
      "--- VGG19 모델 학습 완료 ---\n",
      "최고 검증 손실: 1.099 (에포크 3)\n",
      "최고 손실 시점의 정확도: 0.3299\n",
      "최고 성능 모델 가중치를 ./best_VGG19_model.pt 에 저장했습니다.\n",
      "\n",
      "--- VGG19 모델 학습 종료 ---\n",
      "\n",
      "===== 모든 VGG 모델 학습 완료 =====\n"
     ]
    }
   ],
   "source": [
    "# VGG 모델 반복문 시작\n",
    "for model_name, model_fn in models_to_train.items():\n",
    "    print(f\"\\n--- {model_name} 모델 학습 시작 ---\")\n",
    "\n",
    "    # 1. 모델 로드 (사전 학습 가중치 포함) 및 최종 분류기 수정\n",
    "    try:\n",
    "        weights = model_weights[model_name]\n",
    "        model = model_fn(weights=weights)\n",
    "\n",
    "        # VGG 모델의 classifier 마지막 레이어 수정 (VGG11, 13, 16, 19 모두 동일하게 classifier[6] 수정)\n",
    "        # VGG 구조에 따라 이 인덱스가 다를 수 있지만, 일반적으로 6번입니다.\n",
    "        if isinstance(model.classifier[6], nn.Linear):\n",
    "             # 최종 레이어 입력 특징 수를 가져옴\n",
    "             in_features = model.classifier[6].in_features\n",
    "             model.classifier[6] = nn.Linear(in_features, num_classes)\n",
    "             print(f\"{model_name} 모델의 최종 분류 레이어를 {in_features} -> {num_classes} 으로 수정했습니다.\")\n",
    "        else:\n",
    "             print(f\"경고: {model_name} 모델의 classifier[6]이 예상한 Linear 레이어가 아닙니다. 구조를 확인하세요.\")\n",
    "             # 만약 VGG 구조가 다르면 이 부분을 수정해야 합니다.\n",
    "             # 예: print(model.classifier) 를 통해 구조 확인\n",
    "\n",
    "        model = model.to(DEVICE) # 모델을 디바이스로 이동\n",
    "\n",
    "    except Exception as e:\n",
    "        print(f\"오류: {model_name} 모델 로드 또는 수정 중 오류 발생: {e}. 이 모델 학습을 건너뜝니다.\")\n",
    "        continue # 다음 모델로 이동\n",
    "\n",
    "    # 2. Optimizer 및 Scheduler 생성 (현재 모델에 맞춰 새로 생성)\n",
    "    optimizer = optim.Adam(model.parameters(), lr=HYPERPARAMS['learning_rate'])\n",
    "\n",
    "    # 스케줄러 정의 (현재 Optimizer에 맞춰 새로 생성)\n",
    "    scheduler = lr_scheduler.ReduceLROnPlateau(optimizer,\n",
    "                                               mode='min',\n",
    "                                               factor=0.1,\n",
    "                                               patience=5, # 검증 손실이 5 에포크 동안 개선되지 않으면 학습률 감소\n",
    "                                               verbose=True)\n",
    "\n",
    "\n",
    "    # 3. 조기 종료 및 모델 저장을 위한 변수 초기화 (현재 모델 학습을 위해 새로 초기화)\n",
    "    best_val_loss = float('inf') # 검증 손실 추적\n",
    "    best_val_accuracy = 0.0     # 최고 정확도 추적 (최저 손실 시점의 정확도)\n",
    "    patience = 3 # 검증 손실이 개선되지 않아도 기다릴 에포크 수 (스케줄러와 별개)\n",
    "    patience_counter = 0 # 검증 손실이 개선되지 않은 에포크 수 카운터\n",
    "    best_model_state = None # 가장 좋은 성능을 보인 모델의 state_dict 저장 변수\n",
    "    best_epoch = -1 # 가장 좋은 성능을 보인 에포크 기록\n",
    "\n",
    "    print(f\"{model_name} 모델 학습 시작 (최대 {HYPERPARAMS['epochs']} 에포크, patience={patience})\")\n",
    "\n",
    "    # 4. 학습 루프 시작\n",
    "    for epoch in range(HYPERPARAMS['epochs']):\n",
    "        # 학습 단계\n",
    "        model.train() # 학습 모드\n",
    "        train_cost = 0.0\n",
    "        for images, classes in tqdm(TRAIN_DATALOADER, desc=f\"{model_name} 에포크 {epoch + 1} - 학습 중\", leave=False):\n",
    "            images = images.to(DEVICE)\n",
    "            classes = classes.to(DEVICE)\n",
    "\n",
    "            output = model(images)\n",
    "            loss = criterion(output, classes)\n",
    "\n",
    "            optimizer.zero_grad()\n",
    "            loss.backward()\n",
    "            optimizer.step()\n",
    "\n",
    "            train_cost += loss.item()\n",
    "\n",
    "        train_cost = train_cost / len(TRAIN_DATALOADER)\n",
    "        print(f'에포크 : {epoch + 1}, 학습 손실 : {train_cost:.3f}')\n",
    "\n",
    "        # 검증 단계 및 메트릭 계산\n",
    "        with torch.no_grad(): # 그래디언트 계산 비활성화\n",
    "            model.eval() # 평가 모드\n",
    "            val_loss = 0.0\n",
    "            all_predicted_classes = []\n",
    "            all_true_classes = []\n",
    "\n",
    "            for images, classes in tqdm(VAILD_DATALOADER, desc=f\"{model_name} 에포크 {epoch + 1} - 검증 중\", leave=False):\n",
    "                images = images.to(DEVICE)\n",
    "                classes = classes.to(DEVICE)\n",
    "\n",
    "                outputs = model(images)\n",
    "                loss = criterion(outputs, classes) # 검증 손실 계산\n",
    "                val_loss += loss.item()\n",
    "\n",
    "                # 메트릭 계산을 위해 예측 저장\n",
    "                probs = F.softmax(outputs, dim=-1)\n",
    "                outputs_classes = torch.argmax(probs, dim=-1)\n",
    "                all_true_classes.extend(classes.cpu().numpy())\n",
    "                all_predicted_classes.extend(outputs_classes.cpu().numpy())\n",
    "\n",
    "            val_loss = val_loss / len(VAILD_DATALOADER) # 에포크 평균 검증 손실 계산\n",
    "\n",
    "            # 에포크 전체에 대한 메트릭 계산\n",
    "            accuracy = accuracy_score(all_true_classes, all_predicted_classes)\n",
    "            # average='weighted' 또는 'macro', 'micro' 선택. 클래스 불균형 시 'weighted'가 일반적.\n",
    "            precision = precision_score(all_true_classes, all_predicted_classes, average='weighted', zero_division=0)\n",
    "            f1 = f1_score(all_true_classes, all_predicted_classes, average='weighted', zero_division=0)\n",
    "\n",
    "            print(f'에포크 : {epoch + 1}, 검증 손실 : {val_loss:.3f}')\n",
    "            print(f\"에포크 : {epoch + 1}, 정확도 : {accuracy:.4f}\")\n",
    "            print(f\"에포크 : {epoch + 1}, 정밀도 : {precision:.4f}\")\n",
    "            print(f\"에포크 : {epoch + 1}, F1 점수 : {f1:.4f}\")\n",
    "\n",
    "            # 스케줄러 step 호출: 검증 손실을 기준으로 학습률 조정 판단\n",
    "            scheduler.step(val_loss)\n",
    "\n",
    "            # 조기 종료 및 베스트 모델 저장 로직\n",
    "            if val_loss < best_val_loss:\n",
    "                best_val_loss = val_loss\n",
    "                best_val_accuracy = accuracy # 최고 손실 시점의 정확도 저장\n",
    "                patience_counter = 0 # 손실 개선 시 카운터 초기화\n",
    "                # 현재 모델의 state_dict를 베스트 모델 상태로 저장 (깊은 복사)\n",
    "                best_model_state = copy.deepcopy(model.state_dict())\n",
    "                best_epoch = epoch + 1\n",
    "                print(f'{model_name}: 검증 손실 개선 ({best_val_loss:.3f}). 모델 상태 저장 중.')\n",
    "            else:\n",
    "                patience_counter += 1 # 손실 개선 없음 -> 카운터 증가\n",
    "                print(f'{model_name}: 검증 손실 개선 없음. Patience 카운터: {patience_counter}/{patience}')\n",
    "\n",
    "            # 조기 종료 조건 확인\n",
    "            if patience_counter >= patience:\n",
    "                print(f'{model_name}: 조기 종료 발동. 총 {epoch + 1} 에포크 실행.')\n",
    "                break # 현재 모델의 학습 루프 종료\n",
    "\n",
    "    # --- 현재 모델의 학습 루프 종료 후 처리 ---\n",
    "    # 가장 좋았던 모델 가중치를 로드하여 저장\n",
    "    if best_model_state is not None:\n",
    "        # 모델에 저장된 state_dict를 로드합니다. (조기 종료로 종료되지 않은 경우에도 최적 상태 로드)\n",
    "        model.load_state_dict(best_model_state)\n",
    "        # 모델 가중치 파일 경로 설정 (모델 이름 포함)\n",
    "        model_save_path = f'./best_{model_name}_model.pt'\n",
    "        torch.save(model.state_dict(), model_save_path)\n",
    "        print(f'\\n--- {model_name} 모델 학습 완료 ---')\n",
    "        print(f'최고 검증 손실: {best_val_loss:.3f} (에포크 {best_epoch})')\n",
    "        print(f'최고 손실 시점의 정확도: {best_val_accuracy:.4f}')\n",
    "        print(f'최고 성능 모델 가중치를 {model_save_path} 에 저장했습니다.')\n",
    "    else:\n",
    "        print(f\"\\n--- {model_name} 모델 학습 완료 ---\")\n",
    "        print(\"모델 상태가 저장되지 않았습니다 (학습이 너무 일찍 실패했거나 손실이 개선되지 않았을 수 있습니다).\")\n",
    "\n",
    "    print(f\"\\n--- {model_name} 모델 학습 종료 ---\\n\")\n",
    "\n",
    "# 모든 모델 학습 완료\n",
    "print(\"===== 모든 VGG 모델 학습 완료 =====\")"
   ]
  },
  {
   "cell_type": "code",
   "execution_count": null,
   "id": "0a376e49",
   "metadata": {},
   "outputs": [],
   "source": []
  }
 ],
 "metadata": {
  "kernelspec": {
   "display_name": "NLP",
   "language": "python",
   "name": "python3"
  },
  "language_info": {
   "codemirror_mode": {
    "name": "ipython",
    "version": 3
   },
   "file_extension": ".py",
   "mimetype": "text/x-python",
   "name": "python",
   "nbconvert_exporter": "python",
   "pygments_lexer": "ipython3",
   "version": "3.9.21"
  }
 },
 "nbformat": 4,
 "nbformat_minor": 5
}
